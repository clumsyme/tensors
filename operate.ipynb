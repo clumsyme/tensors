{
 "cells": [
  {
   "cell_type": "code",
   "execution_count": 1,
   "metadata": {
    "collapsed": true
   },
   "outputs": [],
   "source": [
    "\"\"\"\n",
    "basic operation in tensorflow\n",
    "\"\"\"\n",
    "\n",
    "import tensorflow as tf"
   ]
  },
  {
   "cell_type": "code",
   "execution_count": 2,
   "metadata": {},
   "outputs": [
    {
     "name": "stdout",
     "output_type": "stream",
     "text": [
      "session.run(x): 2\n",
      "session.run(x+y): 5\n",
      "session.run(x*y): 6\n"
     ]
    }
   ],
   "source": [
    "# 基本操作\n",
    "x = tf.constant(2)\n",
    "y = tf.constant(3)\n",
    "with tf.Session() as session:\n",
    "    print(f'session.run(x): {session.run(x)}')\n",
    "    print(f'session.run(x+y): {session.run(x+y)}')\n",
    "    print(f'session.run(x*y): {session.run(x*y)}')"
   ]
  },
  {
   "cell_type": "code",
   "execution_count": 3,
   "metadata": {},
   "outputs": [
    {
     "name": "stdout",
     "output_type": "stream",
     "text": [
      "session.run(add, feed_dict={a: 2, b: 3}): 5\n",
      "session.run(mul, feed_dict={a: 2, b: 3}): 6\n"
     ]
    }
   ],
   "source": [
    "# 自定义操作\n",
    "a = tf.placeholder(tf.int16)\n",
    "b = tf.placeholder(tf.int16)\n",
    "\n",
    "add = tf.add(a, b)\n",
    "mul = tf.multiply(a, b)\n",
    "\n",
    "with tf.Session() as session:\n",
    "    print(f'session.run(add, feed_dict={{a: 2, b: 3}}): {session.run(add, feed_dict={a: 2, b: 3})}')\n",
    "    print(f'session.run(mul, feed_dict={{a: 2, b: 3}}): {session.run(mul, feed_dict={a: 2, b: 3})}')"
   ]
  },
  {
   "cell_type": "code",
   "execution_count": 4,
   "metadata": {},
   "outputs": [
    {
     "name": "stdout",
     "output_type": "stream",
     "text": [
      "session.run(product): [[18]]\n"
     ]
    }
   ],
   "source": [
    "# 矩阵\n",
    "m = tf.constant([[2, 3]])\n",
    "n = tf.constant([[3], [4]])\n",
    "product = tf.matmul(m, n)\n",
    "\n",
    "with tf.Session() as session:\n",
    "    print(f'session.run(product): {session.run(product)}')"
   ]
  }
 ],
 "metadata": {
  "kernelspec": {
   "display_name": "Python 3",
   "language": "python",
   "name": "python3"
  },
  "language_info": {
   "codemirror_mode": {
    "name": "ipython",
    "version": 3
   },
   "file_extension": ".py",
   "mimetype": "text/x-python",
   "name": "python",
   "nbconvert_exporter": "python",
   "pygments_lexer": "ipython3",
   "version": "3.6.2"
  }
 },
 "nbformat": 4,
 "nbformat_minor": 2
}
