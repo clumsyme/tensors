{
 "cells": [
  {
   "cell_type": "markdown",
   "metadata": {},
   "source": [
    "# 线性回归"
   ]
  },
  {
   "cell_type": "code",
   "execution_count": 1,
   "metadata": {},
   "outputs": [],
   "source": [
    "import tensorflow as tf\n",
    "import numpy\n",
    "import matplotlib.pyplot as plt"
   ]
  },
  {
   "cell_type": "code",
   "execution_count": 2,
   "metadata": {
    "collapsed": true
   },
   "outputs": [],
   "source": [
    "# 参数\n",
    "learning_rate = 0.01\n",
    "training_epochs = 1000\n",
    "display_step = 50"
   ]
  },
  {
   "cell_type": "code",
   "execution_count": 3,
   "metadata": {},
   "outputs": [],
   "source": [
    "# 数据\n",
    "train_X = numpy.asarray([3.3,4.4,5.5,6.71,6.93,4.168,9.779,6.182,7.59,2.167,\n",
    "                         7.042,10.791,5.313,7.997,5.654,9.27,3.1])\n",
    "train_Y = numpy.asarray([1.7,2.76,2.09,3.19,1.694,1.573,3.366,2.596,2.53,1.221,\n",
    "                         2.827,3.465,1.65,2.904,2.42,2.94,1.3])\n",
    "n_samples = train_X.shape"
   ]
  },
  {
   "cell_type": "code",
   "execution_count": 4,
   "metadata": {
    "collapsed": true
   },
   "outputs": [],
   "source": [
    "X = tf.placeholder('float')\n",
    "Y = tf.placeholder('float')\n",
    "\n",
    "W = tf.Variable(numpy.random.randn(), name=\"weight\")\n",
    "b = tf.Variable(numpy.random.randn(), name=\"bias\")"
   ]
  },
  {
   "cell_type": "code",
   "execution_count": 5,
   "metadata": {
    "collapsed": true
   },
   "outputs": [],
   "source": [
    "pred = tf.add(tf.multiply(X, W), b)"
   ]
  },
  {
   "cell_type": "code",
   "execution_count": 6,
   "metadata": {
    "collapsed": true
   },
   "outputs": [],
   "source": [
    "cost = tf.reduce_sum(tf.pow(pred-Y, 2))/(2*n_samples)\n",
    "optimizer = tf.train.GradientDescentOptimizer(learning_rate).minimize(cost)"
   ]
  },
  {
   "cell_type": "code",
   "execution_count": 7,
   "metadata": {
    "collapsed": true
   },
   "outputs": [],
   "source": [
    "init = tf.global_variables_initializer()"
   ]
  },
  {
   "cell_type": "code",
   "execution_count": 8,
   "metadata": {},
   "outputs": [
    {
     "name": "stdout",
     "output_type": "stream",
     "text": [
      "Epoch: 50 cost=[ 0.3247779  0.3247779] W=0.39959481358528137 b=-0.348480224609375\n",
      "Epoch: 100 cost=[ 0.25815529  0.25815529] W=0.36503997445106506 b=-0.09144236892461777\n",
      "Epoch: 150 cost=[ 0.21780683  0.21780683] W=0.3381664454936981 b=0.10845762491226196\n",
      "Epoch: 200 cost=[ 0.1933616  0.1933616] W=0.3172667920589447 b=0.26392069458961487\n",
      "Epoch: 250 cost=[ 0.17854416  0.17854416] W=0.30101296305656433 b=0.38482561707496643\n",
      "Epoch: 300 cost=[ 0.16955718  0.16955718] W=0.288372278213501 b=0.4788537621498108\n",
      "Epoch: 350 cost=[ 0.164102  0.164102] W=0.27854156494140625 b=0.5519804954528809\n",
      "Epoch: 400 cost=[ 0.16078742  0.16078742] W=0.27089595794677734 b=0.6088525056838989\n",
      "Epoch: 450 cost=[ 0.15877087  0.15877087] W=0.26495012640953064 b=0.6530810594558716\n",
      "Epoch: 500 cost=[ 0.15754206  0.15754206] W=0.2603260576725006 b=0.6874772310256958\n",
      "Epoch: 550 cost=[ 0.15679172  0.15679172] W=0.25672978162765503 b=0.7142283916473389\n",
      "Epoch: 600 cost=[ 0.15633227  0.15633227] W=0.2539328634738922 b=0.7350336313247681\n",
      "Epoch: 650 cost=[ 0.15605016  0.15605016] W=0.25175780057907104 b=0.7512127757072449\n",
      "Epoch: 700 cost=[ 0.15587616  0.15587616] W=0.2500661313533783 b=0.7637960910797119\n",
      "Epoch: 750 cost=[ 0.15576826  0.15576826] W=0.24875062704086304 b=0.7735821604728699\n",
      "Epoch: 800 cost=[ 0.15570107  0.15570107] W=0.2477274388074875 b=0.7811926603317261\n",
      "Epoch: 850 cost=[ 0.15565878  0.15565878] W=0.24693189561367035 b=0.7871106266975403\n",
      "Epoch: 900 cost=[ 0.15563197  0.15563197] W=0.24631310999393463 b=0.7917134165763855\n",
      "Epoch: 950 cost=[ 0.15561484  0.15561484] W=0.2458319514989853 b=0.7952925562858582\n",
      "Epoch: 1000 cost=[ 0.15560372  0.15560372] W=0.24545767903327942 b=0.7980766296386719\n",
      "Optimization Finished!\n",
      "Training cost= [ 0.15560372  0.15560372] W= 0.245458 b= 0.798077 \n",
      "\n"
     ]
    },
    {
     "data": {
      "image/png": "[encoded data removed]",
      "text/plain": [
       "<matplotlib.figure.Figure at 0xbc2f6a0>"
      ]
     },
     "metadata": {},
     "output_type": "display_data"
    }
   ],
   "source": [
    "with tf.Session() as session:\n",
    "    session.run(init)\n",
    "\n",
    "    for epoch in range(training_epochs):\n",
    "        for (x, y) in zip(train_X, train_Y):\n",
    "            session.run(optimizer, feed_dict={X: x, Y: y})\n",
    "\n",
    "        if (epoch+1) % display_step == 0:\n",
    "            c = session.run(cost, feed_dict={X: train_X, Y:train_Y})\n",
    "            print(f'Epoch: {epoch+1} cost={c} W={session.run(W)} b={session.run(b)}')\n",
    "\n",
    "    print(\"Optimization Finished!\")\n",
    "    training_cost = session.run(cost, feed_dict={X: train_X, Y: train_Y})\n",
    "    print(\"Training cost=\", training_cost, \"W=\", session.run(W), \"b=\", session.run(b), '\\n')\n",
    "\n",
    "    plt.plot(train_X, train_Y, 'ro', label='Original data')\n",
    "    plt.plot(train_X, session.run(W) * train_X + session.run(b), label='Fitted line')\n",
    "    plt.legend()\n",
    "    plt.show()"
   ]
  }
 ],
 "metadata": {
  "kernelspec": {
   "display_name": "Python 3",
   "language": "python",
   "name": "python3"
  },
  "language_info": {
   "codemirror_mode": {
    "name": "ipython",
    "version": 3
   },
   "file_extension": ".py",
   "mimetype": "text/x-python",
   "name": "python",
   "nbconvert_exporter": "python",
   "pygments_lexer": "ipython3",
   "version": "3.6.2"
  }
 },
 "nbformat": 4,
 "nbformat_minor": 2
}
